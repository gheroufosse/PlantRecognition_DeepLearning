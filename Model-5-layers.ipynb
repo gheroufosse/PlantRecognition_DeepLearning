{
 "cells": [
  {
   "cell_type": "markdown",
   "id": "ec3aec04",
   "metadata": {},
   "source": [
    "# Plant Disease Detection Code"
   ]
  },
  {
   "cell_type": "markdown",
   "id": "02cc1aab",
   "metadata": {},
   "source": [
    "## Import Dependencies"
   ]
  },
  {
   "cell_type": "code",
   "execution_count": 78,
   "id": "4a487065",
   "metadata": {},
   "outputs": [
    {
     "data": {
      "application/javascript": "\n            setTimeout(function() {\n                var nbb_cell_id = 78;\n                var nbb_unformatted_code = \"# General\\nimport numpy as np\\nimport pandas as pd\\nimport matplotlib.pyplot as plt\";\n                var nbb_formatted_code = \"# General\\nimport numpy as np\\nimport pandas as pd\\nimport matplotlib.pyplot as plt\";\n                var nbb_cells = Jupyter.notebook.get_cells();\n                for (var i = 0; i < nbb_cells.length; ++i) {\n                    if (nbb_cells[i].input_prompt_number == nbb_cell_id) {\n                        if (nbb_cells[i].get_text() == nbb_unformatted_code) {\n                             nbb_cells[i].set_text(nbb_formatted_code);\n                        }\n                        break;\n                    }\n                }\n            }, 500);\n            ",
      "text/plain": [
       "<IPython.core.display.Javascript object>"
      ]
     },
     "metadata": {},
     "output_type": "display_data"
    }
   ],
   "source": [
    "# General\n",
    "import numpy as np\n",
    "import pandas as pd\n",
    "import matplotlib.pyplot as plt"
   ]
  },
  {
   "cell_type": "code",
   "execution_count": 79,
   "id": "4e51cb96",
   "metadata": {},
   "outputs": [
    {
     "data": {
      "application/javascript": "\n            setTimeout(function() {\n                var nbb_cell_id = 79;\n                var nbb_unformatted_code = \"# Torch\\nimport torch\\nfrom torchvision import datasets, transforms, models  # datsets  , transforms\\nfrom torch.utils.data.sampler import SubsetRandomSampler\\nimport torch.nn as nn\\nimport torch.nn.functional as F\\nfrom datetime import datetime\";\n                var nbb_formatted_code = \"# Torch\\nimport torch\\nfrom torchvision import datasets, transforms, models  # datsets  , transforms\\nfrom torch.utils.data.sampler import SubsetRandomSampler\\nimport torch.nn as nn\\nimport torch.nn.functional as F\\nfrom datetime import datetime\";\n                var nbb_cells = Jupyter.notebook.get_cells();\n                for (var i = 0; i < nbb_cells.length; ++i) {\n                    if (nbb_cells[i].input_prompt_number == nbb_cell_id) {\n                        if (nbb_cells[i].get_text() == nbb_unformatted_code) {\n                             nbb_cells[i].set_text(nbb_formatted_code);\n                        }\n                        break;\n                    }\n                }\n            }, 500);\n            ",
      "text/plain": [
       "<IPython.core.display.Javascript object>"
      ]
     },
     "metadata": {},
     "output_type": "display_data"
    }
   ],
   "source": [
    "# Torch\n",
    "import torch\n",
    "from torchvision import datasets, transforms, models  # datsets  , transforms\n",
    "from torch.utils.data.sampler import SubsetRandomSampler\n",
    "import torch.nn as nn\n",
    "import torch.nn.functional as F\n",
    "from datetime import datetime"
   ]
  },
  {
   "cell_type": "code",
   "execution_count": 80,
   "id": "b4c61c96",
   "metadata": {},
   "outputs": [
    {
     "name": "stdout",
     "output_type": "stream",
     "text": [
      "The nb_black extension is already loaded. To reload it, use:\n",
      "  %reload_ext nb_black\n"
     ]
    },
    {
     "data": {
      "application/javascript": "\n            setTimeout(function() {\n                var nbb_cell_id = 80;\n                var nbb_unformatted_code = \"# A simple extension for Jupyter Notebook and Jupyter Lab to beautify Python code automatically using Black.\\n%load_ext nb_black\";\n                var nbb_formatted_code = \"# A simple extension for Jupyter Notebook and Jupyter Lab to beautify Python code automatically using Black.\\n%load_ext nb_black\";\n                var nbb_cells = Jupyter.notebook.get_cells();\n                for (var i = 0; i < nbb_cells.length; ++i) {\n                    if (nbb_cells[i].input_prompt_number == nbb_cell_id) {\n                        if (nbb_cells[i].get_text() == nbb_unformatted_code) {\n                             nbb_cells[i].set_text(nbb_formatted_code);\n                        }\n                        break;\n                    }\n                }\n            }, 500);\n            ",
      "text/plain": [
       "<IPython.core.display.Javascript object>"
      ]
     },
     "metadata": {},
     "output_type": "display_data"
    }
   ],
   "source": [
    "# A simple extension for Jupyter Notebook and Jupyter Lab to beautify Python code automatically using Black.\n",
    "%load_ext nb_black\n"
   ]
  },
  {
   "cell_type": "markdown",
   "id": "a58f7d38",
   "metadata": {},
   "source": [
    "## Import Dataset"
   ]
  },
  {
   "cell_type": "markdown",
   "id": "ac47dfcd",
   "metadata": {},
   "source": [
    "Transforms are used for Data Augmentation like cropping the image, resize the image, convert the image to tensor, rotate the image, and many more. Transforms work as a filter for all images. We are using the following code to transform the images."
   ]
  },
  {
   "cell_type": "code",
   "execution_count": 81,
   "id": "31b119ab",
   "metadata": {},
   "outputs": [
    {
     "data": {
      "application/javascript": "\n            setTimeout(function() {\n                var nbb_cell_id = 81;\n                var nbb_unformatted_code = \"transform = transforms.Compose(\\n    [transforms.Resize(255), \\n     transforms.RandomCrop(224,10),\\n     transforms.ToTensor()]\\n)\";\n                var nbb_formatted_code = \"transform = transforms.Compose(\\n    [transforms.Resize(255), transforms.RandomCrop(224, 10), transforms.ToTensor()]\\n)\";\n                var nbb_cells = Jupyter.notebook.get_cells();\n                for (var i = 0; i < nbb_cells.length; ++i) {\n                    if (nbb_cells[i].input_prompt_number == nbb_cell_id) {\n                        if (nbb_cells[i].get_text() == nbb_unformatted_code) {\n                             nbb_cells[i].set_text(nbb_formatted_code);\n                        }\n                        break;\n                    }\n                }\n            }, 500);\n            ",
      "text/plain": [
       "<IPython.core.display.Javascript object>"
      ]
     },
     "metadata": {},
     "output_type": "display_data"
    }
   ],
   "source": [
    "transform = transforms.Compose(\n",
    "    [transforms.Resize(255), \n",
    "     transforms.RandomCrop(224,10),\n",
    "     transforms.ToTensor()]\n",
    ")\n"
   ]
  },
  {
   "cell_type": "code",
   "execution_count": 82,
   "id": "525dfa8c",
   "metadata": {},
   "outputs": [
    {
     "data": {
      "application/javascript": "\n            setTimeout(function() {\n                var nbb_cell_id = 82;\n                var nbb_unformatted_code = \"dataset = datasets.ImageFolder(\\n    \\\"Plant_leave_diseases_dataset_with_augmentation\\\", transform=transform)\";\n                var nbb_formatted_code = \"dataset = datasets.ImageFolder(\\n    \\\"Plant_leave_diseases_dataset_with_augmentation\\\", transform=transform\\n)\";\n                var nbb_cells = Jupyter.notebook.get_cells();\n                for (var i = 0; i < nbb_cells.length; ++i) {\n                    if (nbb_cells[i].input_prompt_number == nbb_cell_id) {\n                        if (nbb_cells[i].get_text() == nbb_unformatted_code) {\n                             nbb_cells[i].set_text(nbb_formatted_code);\n                        }\n                        break;\n                    }\n                }\n            }, 500);\n            ",
      "text/plain": [
       "<IPython.core.display.Javascript object>"
      ]
     },
     "metadata": {},
     "output_type": "display_data"
    }
   ],
   "source": [
    "dataset = datasets.ImageFolder(\n",
    "    \"Plant_leave_diseases_dataset_with_augmentation\", transform=transform)\n"
   ]
  },
  {
   "cell_type": "code",
   "execution_count": 83,
   "id": "11c54d95",
   "metadata": {},
   "outputs": [
    {
     "data": {
      "text/plain": [
       "Dataset ImageFolder\n",
       "    Number of datapoints: 61468\n",
       "    Root location: Plant_leave_diseases_dataset_with_augmentation\n",
       "    StandardTransform\n",
       "Transform: Compose(\n",
       "               Resize(size=255, interpolation=bilinear, max_size=None, antialias=None)\n",
       "               RandomCrop(size=(224, 224), padding=10)\n",
       "               ToTensor()\n",
       "           )"
      ]
     },
     "execution_count": 83,
     "metadata": {},
     "output_type": "execute_result"
    },
    {
     "data": {
      "application/javascript": "\n            setTimeout(function() {\n                var nbb_cell_id = 83;\n                var nbb_unformatted_code = \"dataset\";\n                var nbb_formatted_code = \"dataset\";\n                var nbb_cells = Jupyter.notebook.get_cells();\n                for (var i = 0; i < nbb_cells.length; ++i) {\n                    if (nbb_cells[i].input_prompt_number == nbb_cell_id) {\n                        if (nbb_cells[i].get_text() == nbb_unformatted_code) {\n                             nbb_cells[i].set_text(nbb_formatted_code);\n                        }\n                        break;\n                    }\n                }\n            }, 500);\n            ",
      "text/plain": [
       "<IPython.core.display.Javascript object>"
      ]
     },
     "metadata": {},
     "output_type": "display_data"
    }
   ],
   "source": [
    "dataset"
   ]
  },
  {
   "cell_type": "markdown",
   "id": "a7bf9555",
   "metadata": {},
   "source": [
    "## Split into Train and Test\n"
   ]
  },
  {
   "cell_type": "code",
   "execution_count": 84,
   "id": "e467fb23",
   "metadata": {},
   "outputs": [
    {
     "name": "stdout",
     "output_type": "stream",
     "text": [
      "length of train size :36572\n",
      "length of validation size :15675\n",
      "length of test size :24896\n"
     ]
    },
    {
     "data": {
      "application/javascript": "\n            setTimeout(function() {\n                var nbb_cell_id = 84;\n                var nbb_unformatted_code = \"indices = list(range(len(dataset)))\\nsplit = int(np.floor(0.85 * len(dataset)))  # train_size\\nvalidation = int(np.floor(0.70 * split))  # validation\\n#print(0, validation, split, len(dataset))\\nprint(f\\\"length of train size :{validation}\\\")\\nprint(f\\\"length of validation size :{split - validation}\\\")\\nprint(f\\\"length of test size :{len(dataset)-validation}\\\")\";\n                var nbb_formatted_code = \"indices = list(range(len(dataset)))\\nsplit = int(np.floor(0.85 * len(dataset)))  # train_size\\nvalidation = int(np.floor(0.70 * split))  # validation\\n# print(0, validation, split, len(dataset))\\nprint(f\\\"length of train size :{validation}\\\")\\nprint(f\\\"length of validation size :{split - validation}\\\")\\nprint(f\\\"length of test size :{len(dataset)-validation}\\\")\";\n                var nbb_cells = Jupyter.notebook.get_cells();\n                for (var i = 0; i < nbb_cells.length; ++i) {\n                    if (nbb_cells[i].input_prompt_number == nbb_cell_id) {\n                        if (nbb_cells[i].get_text() == nbb_unformatted_code) {\n                             nbb_cells[i].set_text(nbb_formatted_code);\n                        }\n                        break;\n                    }\n                }\n            }, 500);\n            ",
      "text/plain": [
       "<IPython.core.display.Javascript object>"
      ]
     },
     "metadata": {},
     "output_type": "display_data"
    }
   ],
   "source": [
    "indices = list(range(len(dataset)))\n",
    "split = int(np.floor(0.85 * len(dataset)))  # train_size\n",
    "validation = int(np.floor(0.70 * split))  # validation\n",
    "#print(0, validation, split, len(dataset))\n",
    "print(f\"length of train size :{validation}\")\n",
    "print(f\"length of validation size :{split - validation}\")\n",
    "print(f\"length of test size :{len(dataset)-validation}\")\n"
   ]
  },
  {
   "cell_type": "markdown",
   "id": "506d5af0",
   "metadata": {},
   "source": [
    "Like this, we use ~60% for training and ~40% for testing.\n",
    "About validation data :\n",
    "\n",
    "If you want to build a solid model you have to follow that specific protocol of splitting your data into three sets: One for training, one for validation and one for final evaluation, which is the test set.\n",
    "\n",
    "The idea is that you train on your training data and tune your model with the results of metrics (accuracy, loss etc) that you get from your validation set.\n",
    "\n",
    "Your model doesn't \"see\" your validation set and isn't in any way trained on it, but you as the architect and master of the hyperparameters tune the model according to this data. Therefore it indirectly influences your model because it directly influences your design decisions. You nudge your model to work well with the validation data and that can possibly bring in a tilt.\n",
    "\n",
    "Exactly that is the reason you only evaluate your model's final score on data that neither your model nor you yourself has used – and that is the third chunk of data, your test set.\n",
    "\n",
    "Only this procedure makes sure you get an unaffected view of your models quality and ability to generalize what is has learned on totally unseen data."
   ]
  },
  {
   "cell_type": "code",
   "execution_count": 85,
   "id": "8f08c303",
   "metadata": {},
   "outputs": [
    {
     "data": {
      "application/javascript": "\n            setTimeout(function() {\n                var nbb_cell_id = 85;\n                var nbb_unformatted_code = \"# randomize the choice of test, train and validation images\\nnp.random.shuffle(indices)\";\n                var nbb_formatted_code = \"# randomize the choice of test, train and validation images\\nnp.random.shuffle(indices)\";\n                var nbb_cells = Jupyter.notebook.get_cells();\n                for (var i = 0; i < nbb_cells.length; ++i) {\n                    if (nbb_cells[i].input_prompt_number == nbb_cell_id) {\n                        if (nbb_cells[i].get_text() == nbb_unformatted_code) {\n                             nbb_cells[i].set_text(nbb_formatted_code);\n                        }\n                        break;\n                    }\n                }\n            }, 500);\n            ",
      "text/plain": [
       "<IPython.core.display.Javascript object>"
      ]
     },
     "metadata": {},
     "output_type": "display_data"
    }
   ],
   "source": [
    "# randomize the choice of test, train and validation images\n",
    "np.random.shuffle(indices)\n"
   ]
  },
  {
   "cell_type": "code",
   "execution_count": 86,
   "id": "31766736",
   "metadata": {},
   "outputs": [
    {
     "data": {
      "application/javascript": "\n            setTimeout(function() {\n                var nbb_cell_id = 86;\n                var nbb_unformatted_code = \"train_indices, validation_indices, test_indices = (\\n    indices[:validation],\\n    indices[validation:split],\\n    indices[split:],\\n)\";\n                var nbb_formatted_code = \"train_indices, validation_indices, test_indices = (\\n    indices[:validation],\\n    indices[validation:split],\\n    indices[split:],\\n)\";\n                var nbb_cells = Jupyter.notebook.get_cells();\n                for (var i = 0; i < nbb_cells.length; ++i) {\n                    if (nbb_cells[i].input_prompt_number == nbb_cell_id) {\n                        if (nbb_cells[i].get_text() == nbb_unformatted_code) {\n                             nbb_cells[i].set_text(nbb_formatted_code);\n                        }\n                        break;\n                    }\n                }\n            }, 500);\n            ",
      "text/plain": [
       "<IPython.core.display.Javascript object>"
      ]
     },
     "metadata": {},
     "output_type": "display_data"
    }
   ],
   "source": [
    "train_indices, validation_indices, test_indices = (\n",
    "    indices[:validation],\n",
    "    indices[validation:split],\n",
    "    indices[split:],\n",
    ")"
   ]
  },
  {
   "cell_type": "markdown",
   "id": "9ed72ffc",
   "metadata": {},
   "source": [
    "Here in the above code we first getting indices and then split the data into train , test and validation data. Total 36584 for train , 15679 for validaiton and remaining images for testing."
   ]
  },
  {
   "cell_type": "code",
   "execution_count": 87,
   "id": "b3fe22ca",
   "metadata": {},
   "outputs": [
    {
     "data": {
      "application/javascript": "\n            setTimeout(function() {\n                var nbb_cell_id = 87;\n                var nbb_unformatted_code = \"train_sampler = SubsetRandomSampler(train_indices)\\nvalidation_sampler = SubsetRandomSampler(validation_indices)\\ntest_sampler = SubsetRandomSampler(test_indices)\";\n                var nbb_formatted_code = \"train_sampler = SubsetRandomSampler(train_indices)\\nvalidation_sampler = SubsetRandomSampler(validation_indices)\\ntest_sampler = SubsetRandomSampler(test_indices)\";\n                var nbb_cells = Jupyter.notebook.get_cells();\n                for (var i = 0; i < nbb_cells.length; ++i) {\n                    if (nbb_cells[i].input_prompt_number == nbb_cell_id) {\n                        if (nbb_cells[i].get_text() == nbb_unformatted_code) {\n                             nbb_cells[i].set_text(nbb_formatted_code);\n                        }\n                        break;\n                    }\n                }\n            }, 500);\n            ",
      "text/plain": [
       "<IPython.core.display.Javascript object>"
      ]
     },
     "metadata": {},
     "output_type": "display_data"
    }
   ],
   "source": [
    "train_sampler = SubsetRandomSampler(train_indices)\n",
    "validation_sampler = SubsetRandomSampler(validation_indices)\n",
    "test_sampler = SubsetRandomSampler(test_indices)\n"
   ]
  },
  {
   "cell_type": "markdown",
   "id": "741f87df",
   "metadata": {},
   "source": [
    "SubsetRandomSampler is used to sample our data. Here we are creating an object of SubsetRandomSampler Object and later we will use this sampler in train data loader and test data loader."
   ]
  },
  {
   "cell_type": "code",
   "execution_count": 88,
   "id": "08eb8385",
   "metadata": {},
   "outputs": [
    {
     "data": {
      "application/javascript": "\n            setTimeout(function() {\n                var nbb_cell_id = 88;\n                var nbb_unformatted_code = \"targets_size = len(dataset.class_to_idx)\";\n                var nbb_formatted_code = \"targets_size = len(dataset.class_to_idx)\";\n                var nbb_cells = Jupyter.notebook.get_cells();\n                for (var i = 0; i < nbb_cells.length; ++i) {\n                    if (nbb_cells[i].input_prompt_number == nbb_cell_id) {\n                        if (nbb_cells[i].get_text() == nbb_unformatted_code) {\n                             nbb_cells[i].set_text(nbb_formatted_code);\n                        }\n                        break;\n                    }\n                }\n            }, 500);\n            ",
      "text/plain": [
       "<IPython.core.display.Javascript object>"
      ]
     },
     "metadata": {},
     "output_type": "display_data"
    }
   ],
   "source": [
    "targets_size = len(dataset.class_to_idx)"
   ]
  },
  {
   "cell_type": "markdown",
   "id": "db510ff9",
   "metadata": {},
   "source": [
    "## Model\n"
   ]
  },
  {
   "cell_type": "markdown",
   "id": "6bf26f17",
   "metadata": {},
   "source": [
    "Convolution Aithmetic Equation : (W - F + 2P) / S + 1\n",
    "W = Input Size\n",
    "F = Filter Size\n",
    "P = Padding Size\n",
    "S = Stride"
   ]
  },
  {
   "cell_type": "code",
   "execution_count": 89,
   "id": "8d3ebf33",
   "metadata": {},
   "outputs": [
    {
     "name": "stdout",
     "output_type": "stream",
     "text": [
      "CropDetectCNN(\n",
      "  (layer1): Sequential(\n",
      "    (0): Conv2d(3, 16, kernel_size=(3, 3), stride=(1, 1))\n",
      "    (1): MaxPool2d(kernel_size=2, stride=2, padding=0, dilation=1, ceil_mode=False)\n",
      "  )\n",
      "  (layer2): Sequential(\n",
      "    (0): Conv2d(16, 32, kernel_size=(3, 3), stride=(2, 2), padding=(1, 1))\n",
      "    (1): MaxPool2d(kernel_size=2, stride=2, padding=0, dilation=1, ceil_mode=False)\n",
      "  )\n",
      "  (fc): Linear(in_features=25088, out_features=39, bias=True)\n",
      ")\n"
     ]
    },
    {
     "data": {
      "application/javascript": "\n            setTimeout(function() {\n                var nbb_cell_id = 89;\n                var nbb_unformatted_code = \"class CropDetectCNN(nn.Module):\\n    # initialize the class and the parameters\\n    def __init__(self):\\n        super(CropDetectCNN, self).__init__()\\n\\n        # convolutional layer 1 & max pool layer 1\\n        self.layer1 = nn.Sequential(\\n            nn.Conv2d(3, 16, kernel_size=3),\\n            nn.MaxPool2d(kernel_size=2))\\n\\n        # convolutional layer 2 & max pool layer 2\\n        self.layer2 = nn.Sequential(\\n            nn.Conv2d(16, 32, kernel_size=3, padding=1, stride=2),\\n            nn.MaxPool2d(kernel_size=2))\\n\\n        #Fully connected layer\\n        self.fc = nn.Linear(32*28*28, 39)\\n        \\n        \\n\\n    # Feed forward the network\\n    def forward(self, x):\\n        out = self.layer1(x)\\n        out = self.layer2(out)\\n        out = out.reshape(out.size(0), -1)\\n        out = self.fc(out)\\n        return out\\n\\n\\nmodel = CropDetectCNN()\\nprint(model)\";\n                var nbb_formatted_code = \"class CropDetectCNN(nn.Module):\\n    # initialize the class and the parameters\\n    def __init__(self):\\n        super(CropDetectCNN, self).__init__()\\n\\n        # convolutional layer 1 & max pool layer 1\\n        self.layer1 = nn.Sequential(\\n            nn.Conv2d(3, 16, kernel_size=3), nn.MaxPool2d(kernel_size=2)\\n        )\\n\\n        # convolutional layer 2 & max pool layer 2\\n        self.layer2 = nn.Sequential(\\n            nn.Conv2d(16, 32, kernel_size=3, padding=1, stride=2),\\n            nn.MaxPool2d(kernel_size=2),\\n        )\\n\\n        # Fully connected layer\\n        self.fc = nn.Linear(32 * 28 * 28, 39)\\n\\n    # Feed forward the network\\n    def forward(self, x):\\n        out = self.layer1(x)\\n        out = self.layer2(out)\\n        out = out.reshape(out.size(0), -1)\\n        out = self.fc(out)\\n        return out\\n\\n\\nmodel = CropDetectCNN()\\nprint(model)\";\n                var nbb_cells = Jupyter.notebook.get_cells();\n                for (var i = 0; i < nbb_cells.length; ++i) {\n                    if (nbb_cells[i].input_prompt_number == nbb_cell_id) {\n                        if (nbb_cells[i].get_text() == nbb_unformatted_code) {\n                             nbb_cells[i].set_text(nbb_formatted_code);\n                        }\n                        break;\n                    }\n                }\n            }, 500);\n            ",
      "text/plain": [
       "<IPython.core.display.Javascript object>"
      ]
     },
     "metadata": {},
     "output_type": "display_data"
    }
   ],
   "source": [
    "class CropDetectCNN(nn.Module):\n",
    "    # initialize the class and the parameters\n",
    "    def __init__(self):\n",
    "        super(CropDetectCNN, self).__init__()\n",
    "\n",
    "        # convolutional layer 1 & max pool layer 1\n",
    "        self.layer1 = nn.Sequential(\n",
    "            nn.Conv2d(3, 16, kernel_size=3),\n",
    "            nn.MaxPool2d(kernel_size=2))\n",
    "\n",
    "        # convolutional layer 2 & max pool layer 2\n",
    "        self.layer2 = nn.Sequential(\n",
    "            nn.Conv2d(16, 32, kernel_size=3, padding=1, stride=2),\n",
    "            nn.MaxPool2d(kernel_size=2))\n",
    "\n",
    "        #Fully connected layer\n",
    "        self.fc = nn.Linear(32*28*28, 39)\n",
    "        \n",
    "        \n",
    "\n",
    "    # Feed forward the network\n",
    "    def forward(self, x):\n",
    "        out = self.layer1(x)\n",
    "        out = self.layer2(out)\n",
    "        out = out.reshape(out.size(0), -1)\n",
    "        out = self.fc(out)\n",
    "        return out\n",
    "\n",
    "\n",
    "model = CropDetectCNN()\n",
    "print(model)\n"
   ]
  },
  {
   "cell_type": "code",
   "execution_count": 90,
   "id": "698a1719",
   "metadata": {},
   "outputs": [
    {
     "name": "stdout",
     "output_type": "stream",
     "text": [
      "cpu\n"
     ]
    },
    {
     "data": {
      "application/javascript": "\n            setTimeout(function() {\n                var nbb_cell_id = 90;\n                var nbb_unformatted_code = \"device = torch.device(\\\"cuda\\\" if torch.cuda.is_available() else \\\"cpu\\\")\\nprint(device)\";\n                var nbb_formatted_code = \"device = torch.device(\\\"cuda\\\" if torch.cuda.is_available() else \\\"cpu\\\")\\nprint(device)\";\n                var nbb_cells = Jupyter.notebook.get_cells();\n                for (var i = 0; i < nbb_cells.length; ++i) {\n                    if (nbb_cells[i].input_prompt_number == nbb_cell_id) {\n                        if (nbb_cells[i].get_text() == nbb_unformatted_code) {\n                             nbb_cells[i].set_text(nbb_formatted_code);\n                        }\n                        break;\n                    }\n                }\n            }, 500);\n            ",
      "text/plain": [
       "<IPython.core.display.Javascript object>"
      ]
     },
     "metadata": {},
     "output_type": "display_data"
    }
   ],
   "source": [
    "device = torch.device(\"cuda\" if torch.cuda.is_available() else \"cpu\")\n",
    "print(device)\n"
   ]
  },
  {
   "cell_type": "code",
   "execution_count": 91,
   "id": "cb6f9d6b",
   "metadata": {},
   "outputs": [
    {
     "data": {
      "application/javascript": "\n            setTimeout(function() {\n                var nbb_cell_id = 91;\n                var nbb_unformatted_code = \"#model = CNN(targets_size)\";\n                var nbb_formatted_code = \"# model = CNN(targets_size)\";\n                var nbb_cells = Jupyter.notebook.get_cells();\n                for (var i = 0; i < nbb_cells.length; ++i) {\n                    if (nbb_cells[i].input_prompt_number == nbb_cell_id) {\n                        if (nbb_cells[i].get_text() == nbb_unformatted_code) {\n                             nbb_cells[i].set_text(nbb_formatted_code);\n                        }\n                        break;\n                    }\n                }\n            }, 500);\n            ",
      "text/plain": [
       "<IPython.core.display.Javascript object>"
      ]
     },
     "metadata": {},
     "output_type": "display_data"
    }
   ],
   "source": [
    "#model = CNN(targets_size)\n"
   ]
  },
  {
   "cell_type": "code",
   "execution_count": 92,
   "id": "6b2f76a1",
   "metadata": {},
   "outputs": [
    {
     "data": {
      "text/plain": [
       "CropDetectCNN(\n",
       "  (layer1): Sequential(\n",
       "    (0): Conv2d(3, 16, kernel_size=(3, 3), stride=(1, 1))\n",
       "    (1): MaxPool2d(kernel_size=2, stride=2, padding=0, dilation=1, ceil_mode=False)\n",
       "  )\n",
       "  (layer2): Sequential(\n",
       "    (0): Conv2d(16, 32, kernel_size=(3, 3), stride=(2, 2), padding=(1, 1))\n",
       "    (1): MaxPool2d(kernel_size=2, stride=2, padding=0, dilation=1, ceil_mode=False)\n",
       "  )\n",
       "  (fc): Linear(in_features=25088, out_features=39, bias=True)\n",
       ")"
      ]
     },
     "execution_count": 92,
     "metadata": {},
     "output_type": "execute_result"
    },
    {
     "data": {
      "application/javascript": "\n            setTimeout(function() {\n                var nbb_cell_id = 92;\n                var nbb_unformatted_code = \"model.to(device)\";\n                var nbb_formatted_code = \"model.to(device)\";\n                var nbb_cells = Jupyter.notebook.get_cells();\n                for (var i = 0; i < nbb_cells.length; ++i) {\n                    if (nbb_cells[i].input_prompt_number == nbb_cell_id) {\n                        if (nbb_cells[i].get_text() == nbb_unformatted_code) {\n                             nbb_cells[i].set_text(nbb_formatted_code);\n                        }\n                        break;\n                    }\n                }\n            }, 500);\n            ",
      "text/plain": [
       "<IPython.core.display.Javascript object>"
      ]
     },
     "metadata": {},
     "output_type": "display_data"
    }
   ],
   "source": [
    "model.to(device)\n"
   ]
  },
  {
   "cell_type": "code",
   "execution_count": 93,
   "id": "aa104c6c",
   "metadata": {},
   "outputs": [
    {
     "name": "stdout",
     "output_type": "stream",
     "text": [
      "----------------------------------------------------------------\n",
      "        Layer (type)               Output Shape         Param #\n",
      "================================================================\n",
      "            Conv2d-1         [-1, 16, 222, 222]             448\n",
      "         MaxPool2d-2         [-1, 16, 111, 111]               0\n",
      "            Conv2d-3           [-1, 32, 56, 56]           4,640\n",
      "         MaxPool2d-4           [-1, 32, 28, 28]               0\n",
      "            Linear-5                   [-1, 39]         978,471\n",
      "================================================================\n",
      "Total params: 983,559\n",
      "Trainable params: 983,559\n",
      "Non-trainable params: 0\n",
      "----------------------------------------------------------------\n",
      "Input size (MB): 0.57\n",
      "Forward/backward pass size (MB): 8.48\n",
      "Params size (MB): 3.75\n",
      "Estimated Total Size (MB): 12.80\n",
      "----------------------------------------------------------------\n"
     ]
    },
    {
     "data": {
      "application/javascript": "\n            setTimeout(function() {\n                var nbb_cell_id = 93;\n                var nbb_unformatted_code = \"from torchsummary import summary\\n\\nsummary(model, (3, 224, 224))\";\n                var nbb_formatted_code = \"from torchsummary import summary\\n\\nsummary(model, (3, 224, 224))\";\n                var nbb_cells = Jupyter.notebook.get_cells();\n                for (var i = 0; i < nbb_cells.length; ++i) {\n                    if (nbb_cells[i].input_prompt_number == nbb_cell_id) {\n                        if (nbb_cells[i].get_text() == nbb_unformatted_code) {\n                             nbb_cells[i].set_text(nbb_formatted_code);\n                        }\n                        break;\n                    }\n                }\n            }, 500);\n            ",
      "text/plain": [
       "<IPython.core.display.Javascript object>"
      ]
     },
     "metadata": {},
     "output_type": "display_data"
    }
   ],
   "source": [
    "from torchsummary import summary\n",
    "\n",
    "summary(model, (3, 224, 224))\n"
   ]
  },
  {
   "cell_type": "code",
   "execution_count": 94,
   "id": "9f002a09",
   "metadata": {},
   "outputs": [
    {
     "data": {
      "application/javascript": "\n            setTimeout(function() {\n                var nbb_cell_id = 94;\n                var nbb_unformatted_code = \"criterion = nn.CrossEntropyLoss()  # this include softmax => No + cross entropy loss\\noptimizer = torch.optim.Adam(model.parameters())\";\n                var nbb_formatted_code = \"criterion = nn.CrossEntropyLoss()  # this include softmax => No + cross entropy loss\\noptimizer = torch.optim.Adam(model.parameters())\";\n                var nbb_cells = Jupyter.notebook.get_cells();\n                for (var i = 0; i < nbb_cells.length; ++i) {\n                    if (nbb_cells[i].input_prompt_number == nbb_cell_id) {\n                        if (nbb_cells[i].get_text() == nbb_unformatted_code) {\n                             nbb_cells[i].set_text(nbb_formatted_code);\n                        }\n                        break;\n                    }\n                }\n            }, 500);\n            ",
      "text/plain": [
       "<IPython.core.display.Javascript object>"
      ]
     },
     "metadata": {},
     "output_type": "display_data"
    }
   ],
   "source": [
    "criterion = nn.CrossEntropyLoss()  # this include softmax => No + cross entropy loss\n",
    "optimizer = torch.optim.Adam(model.parameters())\n"
   ]
  },
  {
   "cell_type": "markdown",
   "id": "77007061",
   "metadata": {},
   "source": [
    "## Batch Gradient Descent"
   ]
  },
  {
   "cell_type": "code",
   "execution_count": 95,
   "id": "73a6e459",
   "metadata": {},
   "outputs": [
    {
     "data": {
      "application/javascript": "\n            setTimeout(function() {\n                var nbb_cell_id = 95;\n                var nbb_unformatted_code = \"def batch_gd(model, criterion, train_loader, validation_loader, epochs):\\n    train_losses = np.zeros(epochs)\\n    validation_losses = np.zeros(epochs)\\n    \\n    for e in range(epochs):\\n        t0 = datetime.now()\\n        train_loss = []\\n        model.train()\\n        for inputs, targets in train_loader:\\n            inputs, targets = inputs.to(device), targets.to(device)\\n\\n            optimizer.zero_grad()\\n\\n            output = model(inputs)\\n\\n            loss = criterion(output, targets)\\n\\n            train_loss.append(loss.item())  # torch to numpy world\\n\\n            loss.backward()\\n            optimizer.step()\\n            \\n        \\n        train_loss = np.mean(train_loss)\\n\\n        validation_loss = []\\n\\n        for inputs, targets in validation_loader:\\n            \\n            model.eval()\\n            \\n            with torch.no_grad():\\n\\n                inputs, targets = inputs.to(device), targets.to(device)\\n\\n                output = model(inputs)\\n\\n                loss = criterion(output, targets)\\n\\n                validation_loss.append(loss.item())  # torch to numpy world\\n        \\n        \\n        \\n        validation_loss = np.mean(validation_loss)\\n\\n        train_losses[e] = train_loss\\n        validation_losses[e] = validation_loss\\n\\n        dt = datetime.now() - t0\\n\\n        print(\\n            f\\\"Epoch : {e+1}/{epochs} Train_loss: {train_loss:.3f} Validation_loss: {validation_loss:.3f} Duration: {dt}\\\"\\n        )\\n\\n    return train_losses, validation_losses\\n #accuracy += torch.mean(equals.type(torch.FloatTensor))\";\n                var nbb_formatted_code = \"def batch_gd(model, criterion, train_loader, validation_loader, epochs):\\n    train_losses = np.zeros(epochs)\\n    validation_losses = np.zeros(epochs)\\n\\n    for e in range(epochs):\\n        t0 = datetime.now()\\n        train_loss = []\\n        model.train()\\n        for inputs, targets in train_loader:\\n            inputs, targets = inputs.to(device), targets.to(device)\\n\\n            optimizer.zero_grad()\\n\\n            output = model(inputs)\\n\\n            loss = criterion(output, targets)\\n\\n            train_loss.append(loss.item())  # torch to numpy world\\n\\n            loss.backward()\\n            optimizer.step()\\n\\n        train_loss = np.mean(train_loss)\\n\\n        validation_loss = []\\n\\n        for inputs, targets in validation_loader:\\n\\n            model.eval()\\n\\n            with torch.no_grad():\\n\\n                inputs, targets = inputs.to(device), targets.to(device)\\n\\n                output = model(inputs)\\n\\n                loss = criterion(output, targets)\\n\\n                validation_loss.append(loss.item())  # torch to numpy world\\n\\n        validation_loss = np.mean(validation_loss)\\n\\n        train_losses[e] = train_loss\\n        validation_losses[e] = validation_loss\\n\\n        dt = datetime.now() - t0\\n\\n        print(\\n            f\\\"Epoch : {e+1}/{epochs} Train_loss: {train_loss:.3f} Validation_loss: {validation_loss:.3f} Duration: {dt}\\\"\\n        )\\n\\n    return train_losses, validation_losses\\n\\n\\n# accuracy += torch.mean(equals.type(torch.FloatTensor))\";\n                var nbb_cells = Jupyter.notebook.get_cells();\n                for (var i = 0; i < nbb_cells.length; ++i) {\n                    if (nbb_cells[i].input_prompt_number == nbb_cell_id) {\n                        if (nbb_cells[i].get_text() == nbb_unformatted_code) {\n                             nbb_cells[i].set_text(nbb_formatted_code);\n                        }\n                        break;\n                    }\n                }\n            }, 500);\n            ",
      "text/plain": [
       "<IPython.core.display.Javascript object>"
      ]
     },
     "metadata": {},
     "output_type": "display_data"
    }
   ],
   "source": [
    "def batch_gd(model, criterion, train_loader, validation_loader, epochs):\n",
    "    train_losses = np.zeros(epochs)\n",
    "    validation_losses = np.zeros(epochs)\n",
    "    \n",
    "    for e in range(epochs):\n",
    "        t0 = datetime.now()\n",
    "        train_loss = []\n",
    "        model.train()\n",
    "        for inputs, targets in train_loader:\n",
    "            inputs, targets = inputs.to(device), targets.to(device)\n",
    "\n",
    "            optimizer.zero_grad()\n",
    "\n",
    "            output = model(inputs)\n",
    "\n",
    "            loss = criterion(output, targets)\n",
    "\n",
    "            train_loss.append(loss.item())  # torch to numpy world\n",
    "\n",
    "            loss.backward()\n",
    "            optimizer.step()\n",
    "            \n",
    "        \n",
    "        train_loss = np.mean(train_loss)\n",
    "\n",
    "        validation_loss = []\n",
    "\n",
    "        for inputs, targets in validation_loader:\n",
    "            \n",
    "            model.eval()\n",
    "            \n",
    "            with torch.no_grad():\n",
    "\n",
    "                inputs, targets = inputs.to(device), targets.to(device)\n",
    "\n",
    "                output = model(inputs)\n",
    "\n",
    "                loss = criterion(output, targets)\n",
    "\n",
    "                validation_loss.append(loss.item())  # torch to numpy world\n",
    "        \n",
    "        \n",
    "        \n",
    "        validation_loss = np.mean(validation_loss)\n",
    "\n",
    "        train_losses[e] = train_loss\n",
    "        validation_losses[e] = validation_loss\n",
    "\n",
    "        dt = datetime.now() - t0\n",
    "\n",
    "        print(\n",
    "            f\"Epoch : {e+1}/{epochs} Train_loss: {train_loss:.3f} Validation_loss: {validation_loss:.3f} Duration: {dt}\"\n",
    "        )\n",
    "\n",
    "    return train_losses, validation_losses\n",
    " #accuracy += torch.mean(equals.type(torch.FloatTensor))\n"
   ]
  },
  {
   "cell_type": "code",
   "execution_count": 96,
   "id": "a1c86d4c",
   "metadata": {},
   "outputs": [
    {
     "name": "stdout",
     "output_type": "stream",
     "text": [
      "<class 'torch.Tensor'>\n",
      "torch.Size([8, 3, 224, 224])\n",
      "torch.Size([8])\n"
     ]
    },
    {
     "data": {
      "application/javascript": "\n            setTimeout(function() {\n                var nbb_cell_id = 96;\n                var nbb_unformatted_code = \"batch_size = 8\\ntrain_loader = torch.utils.data.DataLoader(\\n    dataset, batch_size=batch_size, sampler=train_sampler\\n)\\ntest_loader = torch.utils.data.DataLoader(\\n    dataset, batch_size=batch_size, sampler=test_sampler\\n)\\nvalidation_loader = torch.utils.data.DataLoader(\\n    dataset, batch_size=batch_size, sampler=validation_sampler\\n)\\n\\ndataiter = iter(train_loader)\\nimages, classes = dataiter.next()\\nprint(type(images))\\nprint(images.shape)\\nprint(classes.shape)\";\n                var nbb_formatted_code = \"batch_size = 8\\ntrain_loader = torch.utils.data.DataLoader(\\n    dataset, batch_size=batch_size, sampler=train_sampler\\n)\\ntest_loader = torch.utils.data.DataLoader(\\n    dataset, batch_size=batch_size, sampler=test_sampler\\n)\\nvalidation_loader = torch.utils.data.DataLoader(\\n    dataset, batch_size=batch_size, sampler=validation_sampler\\n)\\n\\ndataiter = iter(train_loader)\\nimages, classes = dataiter.next()\\nprint(type(images))\\nprint(images.shape)\\nprint(classes.shape)\";\n                var nbb_cells = Jupyter.notebook.get_cells();\n                for (var i = 0; i < nbb_cells.length; ++i) {\n                    if (nbb_cells[i].input_prompt_number == nbb_cell_id) {\n                        if (nbb_cells[i].get_text() == nbb_unformatted_code) {\n                             nbb_cells[i].set_text(nbb_formatted_code);\n                        }\n                        break;\n                    }\n                }\n            }, 500);\n            ",
      "text/plain": [
       "<IPython.core.display.Javascript object>"
      ]
     },
     "metadata": {},
     "output_type": "display_data"
    }
   ],
   "source": [
    "batch_size = 8\n",
    "train_loader = torch.utils.data.DataLoader(\n",
    "    dataset, batch_size=batch_size, sampler=train_sampler\n",
    ")\n",
    "test_loader = torch.utils.data.DataLoader(\n",
    "    dataset, batch_size=batch_size, sampler=test_sampler\n",
    ")\n",
    "validation_loader = torch.utils.data.DataLoader(\n",
    "    dataset, batch_size=batch_size, sampler=validation_sampler\n",
    ")\n",
    "\n",
    "dataiter = iter(train_loader)\n",
    "images, classes = dataiter.next()\n",
    "print(type(images))\n",
    "print(images.shape)\n",
    "print(classes.shape)\n"
   ]
  },
  {
   "cell_type": "code",
   "execution_count": 97,
   "id": "3ac90cad",
   "metadata": {},
   "outputs": [
    {
     "name": "stdout",
     "output_type": "stream",
     "text": [
      "Epoch : 1/4 Train_loss: 1.539 Validation_loss: 1.241 Duration: 0:14:50.920072\n",
      "Epoch : 2/4 Train_loss: 1.060 Validation_loss: 0.936 Duration: 0:16:57.253714\n",
      "Epoch : 3/4 Train_loss: 0.913 Validation_loss: 0.943 Duration: 0:17:21.649750\n",
      "Epoch : 4/4 Train_loss: 0.806 Validation_loss: 0.871 Duration: 0:17:35.275104\n"
     ]
    },
    {
     "data": {
      "application/javascript": "\n            setTimeout(function() {\n                var nbb_cell_id = 97;\n                var nbb_unformatted_code = \"train_losses, validation_losses = batch_gd(\\n    model, criterion, train_loader, validation_loader, 4\\n)\";\n                var nbb_formatted_code = \"train_losses, validation_losses = batch_gd(\\n    model, criterion, train_loader, validation_loader, 4\\n)\";\n                var nbb_cells = Jupyter.notebook.get_cells();\n                for (var i = 0; i < nbb_cells.length; ++i) {\n                    if (nbb_cells[i].input_prompt_number == nbb_cell_id) {\n                        if (nbb_cells[i].get_text() == nbb_unformatted_code) {\n                             nbb_cells[i].set_text(nbb_formatted_code);\n                        }\n                        break;\n                    }\n                }\n            }, 500);\n            ",
      "text/plain": [
       "<IPython.core.display.Javascript object>"
      ]
     },
     "metadata": {},
     "output_type": "display_data"
    }
   ],
   "source": [
    "train_losses, validation_losses = batch_gd(\n",
    "    model, criterion, train_loader, validation_loader, 4\n",
    ")\n",
    "\n"
   ]
  },
  {
   "cell_type": "markdown",
   "id": "e343a784",
   "metadata": {},
   "source": [
    "## Save the model"
   ]
  },
  {
   "cell_type": "code",
   "execution_count": 98,
   "id": "6f7ac81e",
   "metadata": {},
   "outputs": [
    {
     "data": {
      "application/javascript": "\n            setTimeout(function() {\n                var nbb_cell_id = 98;\n                var nbb_unformatted_code = \"torch.save(model.state_dict() , 'plant_disease_model_1.pt')\";\n                var nbb_formatted_code = \"torch.save(model.state_dict(), \\\"plant_disease_model_1.pt\\\")\";\n                var nbb_cells = Jupyter.notebook.get_cells();\n                for (var i = 0; i < nbb_cells.length; ++i) {\n                    if (nbb_cells[i].input_prompt_number == nbb_cell_id) {\n                        if (nbb_cells[i].get_text() == nbb_unformatted_code) {\n                             nbb_cells[i].set_text(nbb_formatted_code);\n                        }\n                        break;\n                    }\n                }\n            }, 500);\n            ",
      "text/plain": [
       "<IPython.core.display.Javascript object>"
      ]
     },
     "metadata": {},
     "output_type": "display_data"
    }
   ],
   "source": [
    "torch.save(model.state_dict() , 'plant_disease_model_1.pt')"
   ]
  },
  {
   "cell_type": "markdown",
   "id": "5db0cdbe",
   "metadata": {},
   "source": [
    "## Load the model"
   ]
  },
  {
   "cell_type": "code",
   "execution_count": 99,
   "id": "1f2563e9",
   "metadata": {},
   "outputs": [
    {
     "data": {
      "text/plain": [
       "CropDetectCNN(\n",
       "  (layer1): Sequential(\n",
       "    (0): Conv2d(3, 16, kernel_size=(3, 3), stride=(1, 1))\n",
       "    (1): MaxPool2d(kernel_size=2, stride=2, padding=0, dilation=1, ceil_mode=False)\n",
       "  )\n",
       "  (layer2): Sequential(\n",
       "    (0): Conv2d(16, 32, kernel_size=(3, 3), stride=(2, 2), padding=(1, 1))\n",
       "    (1): MaxPool2d(kernel_size=2, stride=2, padding=0, dilation=1, ceil_mode=False)\n",
       "  )\n",
       "  (fc): Linear(in_features=25088, out_features=39, bias=True)\n",
       ")"
      ]
     },
     "execution_count": 99,
     "metadata": {},
     "output_type": "execute_result"
    },
    {
     "data": {
      "application/javascript": "\n            setTimeout(function() {\n                var nbb_cell_id = 99;\n                var nbb_unformatted_code = \"targets_size = 39\\nmodel = CropDetectCNN()\\nmodel.load_state_dict(torch.load(\\\"plant_disease_model_1.pt\\\"))\\nmodel.eval()\";\n                var nbb_formatted_code = \"targets_size = 39\\nmodel = CropDetectCNN()\\nmodel.load_state_dict(torch.load(\\\"plant_disease_model_1.pt\\\"))\\nmodel.eval()\";\n                var nbb_cells = Jupyter.notebook.get_cells();\n                for (var i = 0; i < nbb_cells.length; ++i) {\n                    if (nbb_cells[i].input_prompt_number == nbb_cell_id) {\n                        if (nbb_cells[i].get_text() == nbb_unformatted_code) {\n                             nbb_cells[i].set_text(nbb_formatted_code);\n                        }\n                        break;\n                    }\n                }\n            }, 500);\n            ",
      "text/plain": [
       "<IPython.core.display.Javascript object>"
      ]
     },
     "metadata": {},
     "output_type": "display_data"
    }
   ],
   "source": [
    "targets_size = 39\n",
    "model = CropDetectCNN()\n",
    "model.load_state_dict(torch.load(\"plant_disease_model_1.pt\"))\n",
    "model.eval()\n"
   ]
  },
  {
   "cell_type": "code",
   "execution_count": 100,
   "id": "f0d731c3",
   "metadata": {},
   "outputs": [
    {
     "data": {
      "application/javascript": "\n            setTimeout(function() {\n                var nbb_cell_id = 100;\n                var nbb_unformatted_code = \"%matplotlib notebook\\n%matplotlib inline\";\n                var nbb_formatted_code = \"%matplotlib notebook\\n%matplotlib inline\";\n                var nbb_cells = Jupyter.notebook.get_cells();\n                for (var i = 0; i < nbb_cells.length; ++i) {\n                    if (nbb_cells[i].input_prompt_number == nbb_cell_id) {\n                        if (nbb_cells[i].get_text() == nbb_unformatted_code) {\n                             nbb_cells[i].set_text(nbb_formatted_code);\n                        }\n                        break;\n                    }\n                }\n            }, 500);\n            ",
      "text/plain": [
       "<IPython.core.display.Javascript object>"
      ]
     },
     "metadata": {},
     "output_type": "display_data"
    }
   ],
   "source": [
    "%matplotlib notebook\n",
    "%matplotlib inline\n"
   ]
  },
  {
   "cell_type": "markdown",
   "id": "b15e7380",
   "metadata": {},
   "source": [
    "## Plot the loss"
   ]
  },
  {
   "cell_type": "code",
   "execution_count": 101,
   "id": "98f7ca0c",
   "metadata": {},
   "outputs": [
    {
     "data": {
      "image/png": "[encoded data removed]",
      "text/plain": [
       "<Figure size 432x288 with 1 Axes>"
      ]
     },
     "metadata": {
      "needs_background": "light"
     },
     "output_type": "display_data"
    },
    {
     "data": {
      "application/javascript": "\n            setTimeout(function() {\n                var nbb_cell_id = 101;\n                var nbb_unformatted_code = \"plt.plot(train_losses, label='train_loss')\\nplt.plot(validation_losses, label='validation_loss')\\nplt.xlabel('No of Epochs')\\nplt.ylabel('Loss')\\nplt.legend()\\nplt.show()\";\n                var nbb_formatted_code = \"plt.plot(train_losses, label=\\\"train_loss\\\")\\nplt.plot(validation_losses, label=\\\"validation_loss\\\")\\nplt.xlabel(\\\"No of Epochs\\\")\\nplt.ylabel(\\\"Loss\\\")\\nplt.legend()\\nplt.show()\";\n                var nbb_cells = Jupyter.notebook.get_cells();\n                for (var i = 0; i < nbb_cells.length; ++i) {\n                    if (nbb_cells[i].input_prompt_number == nbb_cell_id) {\n                        if (nbb_cells[i].get_text() == nbb_unformatted_code) {\n                             nbb_cells[i].set_text(nbb_formatted_code);\n                        }\n                        break;\n                    }\n                }\n            }, 500);\n            ",
      "text/plain": [
       "<IPython.core.display.Javascript object>"
      ]
     },
     "metadata": {},
     "output_type": "display_data"
    }
   ],
   "source": [
    "plt.plot(train_losses, label='train_loss')\n",
    "plt.plot(validation_losses, label='validation_loss')\n",
    "plt.xlabel('No of Epochs')\n",
    "plt.ylabel('Loss')\n",
    "plt.legend()\n",
    "plt.show()"
   ]
  },
  {
   "cell_type": "markdown",
   "id": "b1894907",
   "metadata": {},
   "source": [
    "## Accuracy"
   ]
  },
  {
   "cell_type": "code",
   "execution_count": 102,
   "id": "514f196f",
   "metadata": {},
   "outputs": [
    {
     "name": "stdout",
     "output_type": "stream",
     "text": [
      "Train Accuracy : 0.7635622880892486\n",
      "Validation Accuracy : 0.7518341307814992\n",
      "Test Accuracy : 0.7536058995770524\n"
     ]
    },
    {
     "data": {
      "application/javascript": "\n            setTimeout(function() {\n                var nbb_cell_id = 102;\n                var nbb_unformatted_code = \"def accuracy(loader):\\n    n_correct = 0\\n    n_total = 0\\n    model.eval()\\n    for inputs, targets in loader:\\n        inputs, targets = inputs.to(device), targets.to(device)\\n\\n        outputs = model(inputs)\\n\\n        _, predictions = torch.max(outputs, 1)\\n\\n        n_correct += (predictions == targets).sum().item()\\n        n_total += targets.shape[0]\\n\\n    acc = n_correct / n_total\\n    return acc\\n\\n\\ntrain_acc = accuracy(train_loader)\\nvalidation_acc = accuracy(validation_loader)\\ntest_acc = accuracy(test_loader)\\n\\nprint(\\n    f\\\"Train Accuracy : {train_acc}\\\\nValidation Accuracy : {validation_acc}\\\\nTest Accuracy : {test_acc}\\\"\\n)\";\n                var nbb_formatted_code = \"def accuracy(loader):\\n    n_correct = 0\\n    n_total = 0\\n    model.eval()\\n    for inputs, targets in loader:\\n        inputs, targets = inputs.to(device), targets.to(device)\\n\\n        outputs = model(inputs)\\n\\n        _, predictions = torch.max(outputs, 1)\\n\\n        n_correct += (predictions == targets).sum().item()\\n        n_total += targets.shape[0]\\n\\n    acc = n_correct / n_total\\n    return acc\\n\\n\\ntrain_acc = accuracy(train_loader)\\nvalidation_acc = accuracy(validation_loader)\\ntest_acc = accuracy(test_loader)\\n\\nprint(\\n    f\\\"Train Accuracy : {train_acc}\\\\nValidation Accuracy : {validation_acc}\\\\nTest Accuracy : {test_acc}\\\"\\n)\";\n                var nbb_cells = Jupyter.notebook.get_cells();\n                for (var i = 0; i < nbb_cells.length; ++i) {\n                    if (nbb_cells[i].input_prompt_number == nbb_cell_id) {\n                        if (nbb_cells[i].get_text() == nbb_unformatted_code) {\n                             nbb_cells[i].set_text(nbb_formatted_code);\n                        }\n                        break;\n                    }\n                }\n            }, 500);\n            ",
      "text/plain": [
       "<IPython.core.display.Javascript object>"
      ]
     },
     "metadata": {},
     "output_type": "display_data"
    }
   ],
   "source": [
    "def accuracy(loader):\n",
    "    n_correct = 0\n",
    "    n_total = 0\n",
    "    model.eval()\n",
    "    for inputs, targets in loader:\n",
    "        inputs, targets = inputs.to(device), targets.to(device)\n",
    "\n",
    "        outputs = model(inputs)\n",
    "\n",
    "        _, predictions = torch.max(outputs, 1)\n",
    "\n",
    "        n_correct += (predictions == targets).sum().item()\n",
    "        n_total += targets.shape[0]\n",
    "\n",
    "    acc = n_correct / n_total\n",
    "    return acc\n",
    "\n",
    "\n",
    "train_acc = accuracy(train_loader)\n",
    "validation_acc = accuracy(validation_loader)\n",
    "test_acc = accuracy(test_loader)\n",
    "\n",
    "print(\n",
    "    f\"Train Accuracy : {train_acc}\\nValidation Accuracy : {validation_acc}\\nTest Accuracy : {test_acc}\"\n",
    ")\n"
   ]
  },
  {
   "cell_type": "markdown",
   "id": "cd05e869",
   "metadata": {},
   "source": [
    "## Single Image prediction"
   ]
  },
  {
   "cell_type": "code",
   "execution_count": null,
   "id": "1f76e4a2",
   "metadata": {},
   "outputs": [],
   "source": [
    "model.class_to_idx = dataset.class_to_idx\n",
    "model.class_to_idx.items()\n",
    "\n",
    "# transform_index_to_disease = dataset.class_to_idx\n"
   ]
  },
  {
   "cell_type": "code",
   "execution_count": null,
   "id": "76556e32",
   "metadata": {},
   "outputs": [],
   "source": [
    "transform_index_to_disease = dict(\n",
    "    [(value, key) for key, value in model.class_to_idx.items()]\n",
    ")  # reverse the index\n",
    "transform_index_to_disease.items()\n"
   ]
  },
  {
   "cell_type": "code",
   "execution_count": 105,
   "id": "78902155",
   "metadata": {},
   "outputs": [
    {
     "data": {
      "application/javascript": "\n            setTimeout(function() {\n                var nbb_cell_id = 105;\n                var nbb_unformatted_code = \"from PIL import Image\\nimport torchvision.transforms.functional as TF\\n\\ndef single_prediction(image_path):\\n    image = Image.open(image_path)\\n    image = image.resize((224, 224))\\n    input_data = TF.to_tensor(image)\\n    input_data = input_data.view((-1, 3, 224, 224))\\n    output = model(input_data)\\n    #top_p, top_cl = ps.topk(5, dim=1)\\n    \\n    output = output.detach().numpy()\\n    \\n    index = np.argmax(output)\\n    \\n    \\n    print(\\\"Original : \\\", image_path.split(\\\"/\\\")[-2])\\n    \\n    print(f\\\"Prediction of our model: \\\", transform_index_to_disease[index])\\n    \\n    return image, output\\n\\n    \";\n                var nbb_formatted_code = \"from PIL import Image\\nimport torchvision.transforms.functional as TF\\n\\n\\ndef single_prediction(image_path):\\n    image = Image.open(image_path)\\n    image = image.resize((224, 224))\\n    input_data = TF.to_tensor(image)\\n    input_data = input_data.view((-1, 3, 224, 224))\\n    output = model(input_data)\\n    # top_p, top_cl = ps.topk(5, dim=1)\\n\\n    output = output.detach().numpy()\\n\\n    index = np.argmax(output)\\n\\n    print(\\\"Original : \\\", image_path.split(\\\"/\\\")[-2])\\n\\n    print(f\\\"Prediction of our model: \\\", transform_index_to_disease[index])\\n\\n    return image, output\";\n                var nbb_cells = Jupyter.notebook.get_cells();\n                for (var i = 0; i < nbb_cells.length; ++i) {\n                    if (nbb_cells[i].input_prompt_number == nbb_cell_id) {\n                        if (nbb_cells[i].get_text() == nbb_unformatted_code) {\n                             nbb_cells[i].set_text(nbb_formatted_code);\n                        }\n                        break;\n                    }\n                }\n            }, 500);\n            ",
      "text/plain": [
       "<IPython.core.display.Javascript object>"
      ]
     },
     "metadata": {},
     "output_type": "display_data"
    }
   ],
   "source": [
    "from PIL import Image\n",
    "import torchvision.transforms.functional as TF\n",
    "\n",
    "def single_prediction(image_path):\n",
    "    image = Image.open(image_path)\n",
    "    image = image.resize((224, 224))\n",
    "    input_data = TF.to_tensor(image)\n",
    "    input_data = input_data.view((-1, 3, 224, 224))\n",
    "    output = model(input_data)\n",
    "    #top_p, top_cl = ps.topk(5, dim=1)\n",
    "    \n",
    "    output = output.detach().numpy()\n",
    "    \n",
    "    index = np.argmax(output)\n",
    "    \n",
    "    \n",
    "    print(\"Original : \", image_path.split(\"/\")[-2])\n",
    "    \n",
    "    print(f\"Prediction of our model: \", transform_index_to_disease[index])\n",
    "    \n",
    "    return image, output\n",
    "\n",
    "    \n",
    "\n",
    "\n"
   ]
  },
  {
   "cell_type": "code",
   "execution_count": null,
   "id": "48675f5d",
   "metadata": {},
   "outputs": [],
   "source": [
    "from scipy.special import softmax\n",
    "\n",
    "image, pred = single_prediction(\"\")\n",
    "\n",
    "\n",
    "probabilities = softmax(pred)\n",
    "\n",
    "print(probabilities)\n",
    "\n",
    "probabilities.sum()"
   ]
  },
  {
   "cell_type": "code",
   "execution_count": 115,
   "id": "3fcfd233",
   "metadata": {},
   "outputs": [
    {
     "data": {
      "application/javascript": "\n            setTimeout(function() {\n                var nbb_cell_id = 115;\n                var nbb_unformatted_code = \"from PIL import Image\\nimport numpy as np\\n# Plot the image\\n\\ndef imshow(image):\\n    fig, ax = plt.subplots()\\n\\n    # convert the shape from (3, 256, 256) to (256, 256, 3)\\n    image = image.transpose(0, 1, 2)\\n    ax.imshow(image)\\n    ax.set_xticklabels('')\\n    ax.set_yticklabels('')\\n\\n    return ax\\n\\n\\ndef process_image(image_path):\\n\\n    test_transform = transforms.Compose([transforms.RandomResizedCrop(224),\\n                                         transforms.ToTensor()])\\n    im = Image.open(image_path)\\n    imshow(np.array(im))\\n    im = test_transform(im)\\n    \\n    return im\";\n                var nbb_formatted_code = \"from PIL import Image\\nimport numpy as np\\n\\n# Plot the image\\n\\n\\ndef imshow(image):\\n    fig, ax = plt.subplots()\\n\\n    # convert the shape from (3, 256, 256) to (256, 256, 3)\\n    image = image.transpose(0, 1, 2)\\n    ax.imshow(image)\\n    ax.set_xticklabels(\\\"\\\")\\n    ax.set_yticklabels(\\\"\\\")\\n\\n    return ax\\n\\n\\ndef process_image(image_path):\\n\\n    test_transform = transforms.Compose(\\n        [transforms.RandomResizedCrop(224), transforms.ToTensor()]\\n    )\\n    im = Image.open(image_path)\\n    imshow(np.array(im))\\n    im = test_transform(im)\\n\\n    return im\";\n                var nbb_cells = Jupyter.notebook.get_cells();\n                for (var i = 0; i < nbb_cells.length; ++i) {\n                    if (nbb_cells[i].input_prompt_number == nbb_cell_id) {\n                        if (nbb_cells[i].get_text() == nbb_unformatted_code) {\n                             nbb_cells[i].set_text(nbb_formatted_code);\n                        }\n                        break;\n                    }\n                }\n            }, 500);\n            ",
      "text/plain": [
       "<IPython.core.display.Javascript object>"
      ]
     },
     "metadata": {},
     "output_type": "display_data"
    }
   ],
   "source": [
    "from PIL import Image\n",
    "import numpy as np\n",
    "# Plot the image\n",
    "\n",
    "def imshow(image):\n",
    "    fig, ax = plt.subplots()\n",
    "\n",
    "    # convert the shape from (3, 256, 256) to (256, 256, 3)\n",
    "    image = image.transpose(0, 1, 2)\n",
    "    ax.imshow(image)\n",
    "    ax.set_xticklabels('')\n",
    "    ax.set_yticklabels('')\n",
    "\n",
    "    return ax\n",
    "\n",
    "\n",
    "def process_image(image_path):\n",
    "\n",
    "    test_transform = transforms.Compose([transforms.RandomResizedCrop(224),\n",
    "                                         transforms.ToTensor()])\n",
    "    im = Image.open(image_path)\n",
    "    imshow(np.array(im))\n",
    "    im = test_transform(im)\n",
    "    \n",
    "    return im\n",
    "\n",
    "\n"
   ]
  },
  {
   "cell_type": "code",
   "execution_count": 116,
   "id": "65f8ab94",
   "metadata": {},
   "outputs": [
    {
     "data": {
      "application/javascript": "\n            setTimeout(function() {\n                var nbb_cell_id = 116;\n                var nbb_unformatted_code = \"def predict(image, model):\\n    # we have to process the image as we did while training the others\\n    image = process_image(image)\\n\\n    #returns a new tensor with a given dimension\\n    image_input = image.unsqueeze(0)\\n\\n    # Convert the image to either gpu|cpu\\n    image_input.to(device)\\n\\n    # Pass the image through the model\\n    outputs = model(image_input)\\n    \\n    # Softmax on our output -> Transforming prediction scores into probabilities\\n    m = nn.Softmax(dim=1)\\n    proba = m(outputs)\\n        \\n    # return the top 5 most predicted classes\\n    top_p, top_cls = proba.topk(5, dim=1)\\n        \\n    # convert to numpy, then to list\\n    top_cls = top_cls.detach().numpy().tolist()[0]\\n\\n    # covert indices to classes\\n    idx_to_class = {v: k for k, v in model.class_to_idx.items()}\\n\\n    top_cls = [idx_to_class[top_class] for top_class in top_cls]\\n\\n    return top_p, top_cls\";\n                var nbb_formatted_code = \"def predict(image, model):\\n    # we have to process the image as we did while training the others\\n    image = process_image(image)\\n\\n    # returns a new tensor with a given dimension\\n    image_input = image.unsqueeze(0)\\n\\n    # Convert the image to either gpu|cpu\\n    image_input.to(device)\\n\\n    # Pass the image through the model\\n    outputs = model(image_input)\\n\\n    # Softmax on our output -> Transforming prediction scores into probabilities\\n    m = nn.Softmax(dim=1)\\n    proba = m(outputs)\\n\\n    # return the top 5 most predicted classes\\n    top_p, top_cls = proba.topk(5, dim=1)\\n\\n    # convert to numpy, then to list\\n    top_cls = top_cls.detach().numpy().tolist()[0]\\n\\n    # covert indices to classes\\n    idx_to_class = {v: k for k, v in model.class_to_idx.items()}\\n\\n    top_cls = [idx_to_class[top_class] for top_class in top_cls]\\n\\n    return top_p, top_cls\";\n                var nbb_cells = Jupyter.notebook.get_cells();\n                for (var i = 0; i < nbb_cells.length; ++i) {\n                    if (nbb_cells[i].input_prompt_number == nbb_cell_id) {\n                        if (nbb_cells[i].get_text() == nbb_unformatted_code) {\n                             nbb_cells[i].set_text(nbb_formatted_code);\n                        }\n                        break;\n                    }\n                }\n            }, 500);\n            ",
      "text/plain": [
       "<IPython.core.display.Javascript object>"
      ]
     },
     "metadata": {},
     "output_type": "display_data"
    }
   ],
   "source": [
    "def predict(image, model):\n",
    "    # we have to process the image as we did while training the others\n",
    "    image = process_image(image)\n",
    "\n",
    "    #returns a new tensor with a given dimension\n",
    "    image_input = image.unsqueeze(0)\n",
    "\n",
    "    # Convert the image to either gpu|cpu\n",
    "    image_input.to(device)\n",
    "\n",
    "    # Pass the image through the model\n",
    "    outputs = model(image_input)\n",
    "    \n",
    "    # Softmax on our output -> Transforming prediction scores into probabilities\n",
    "    m = nn.Softmax(dim=1)\n",
    "    proba = m(outputs)\n",
    "        \n",
    "    # return the top 5 most predicted classes\n",
    "    top_p, top_cls = proba.topk(5, dim=1)\n",
    "        \n",
    "    # convert to numpy, then to list\n",
    "    top_cls = top_cls.detach().numpy().tolist()[0]\n",
    "\n",
    "    # covert indices to classes\n",
    "    idx_to_class = {v: k for k, v in model.class_to_idx.items()}\n",
    "\n",
    "    top_cls = [idx_to_class[top_class] for top_class in top_cls]\n",
    "\n",
    "    return top_p, top_cls\n"
   ]
  },
  {
   "cell_type": "code",
   "execution_count": 117,
   "id": "fa9a5319",
   "metadata": {},
   "outputs": [
    {
     "data": {
      "application/javascript": "\n            setTimeout(function() {\n                var nbb_cell_id = 117;\n                var nbb_unformatted_code = \"import seaborn as sns\\nimport matplotlib.pyplot as plt\\n\\n\\ndef plot_solution(image_path, ps, classes):\\n    \\n    fig = plt.figure(figsize=(6, 10))\\n    image = process_image(image_path)\\n    plt.subplot(2, 1, 2)\\n    image\\n    sns.barplot(x=ps, y=classes, color=sns.color_palette()[2])\\n    fig.show()\";\n                var nbb_formatted_code = \"import seaborn as sns\\nimport matplotlib.pyplot as plt\\n\\n\\ndef plot_solution(image_path, ps, classes):\\n\\n    fig = plt.figure(figsize=(6, 10))\\n    image = process_image(image_path)\\n    plt.subplot(2, 1, 2)\\n    image\\n    sns.barplot(x=ps, y=classes, color=sns.color_palette()[2])\\n    fig.show()\";\n                var nbb_cells = Jupyter.notebook.get_cells();\n                for (var i = 0; i < nbb_cells.length; ++i) {\n                    if (nbb_cells[i].input_prompt_number == nbb_cell_id) {\n                        if (nbb_cells[i].get_text() == nbb_unformatted_code) {\n                             nbb_cells[i].set_text(nbb_formatted_code);\n                        }\n                        break;\n                    }\n                }\n            }, 500);\n            ",
      "text/plain": [
       "<IPython.core.display.Javascript object>"
      ]
     },
     "metadata": {},
     "output_type": "display_data"
    }
   ],
   "source": [
    "import seaborn as sns\n",
    "import matplotlib.pyplot as plt\n",
    "\n",
    "\n",
    "def plot_solution(image_path, ps, classes):\n",
    "    \n",
    "    fig = plt.figure(figsize=(6, 10))\n",
    "    image = process_image(image_path)\n",
    "    plt.subplot(2, 1, 2)\n",
    "    image\n",
    "    sns.barplot(x=ps, y=classes, color=sns.color_palette()[2])\n",
    "    fig.show()"
   ]
  },
  {
   "cell_type": "code",
   "execution_count": null,
   "id": "02fcf6dc",
   "metadata": {},
   "outputs": [],
   "source": [
    "from collections import Counter\n",
    "image = \"\"\n",
    "\n",
    "results = []\n",
    "for i in range(100):\n",
    "    ps, classes = predict(image, model)\n",
    "    ps = ps.detach().numpy().tolist()[0]\n",
    "    results.append(classes[0])\n",
    "\n",
    "\n",
    "print(f\"Results for 100 predictions of a Grape___Black_rot: \",\n",
    "      Counter(results))\n"
   ]
  },
  {
   "cell_type": "code",
   "execution_count": null,
   "id": "f769025d",
   "metadata": {},
   "outputs": [],
   "source": [
    "from collections import Counter\n",
    "image = \"\"\n",
    "\n",
    "results=[]\n",
    "# for i in range(100):\n",
    "#     ps, classes = predict(image, model)\n",
    "#     ps = ps.detach().numpy().tolist()[0]\n",
    "#     results.append(classes[0])\n",
    "ps, classes = predict(image, model)\n",
    "ps = ps.detach().numpy().tolist()[0]\n",
    "\n",
    "plot_solution(image, ps, classes)\n",
    "\n",
    "#print(f\"Results for 1 predictions of a Black rot disease on an apple leaf: \", Counter(results))\n",
    "\n",
    "\n"
   ]
  },
  {
   "cell_type": "code",
   "execution_count": null,
   "id": "478c258c",
   "metadata": {},
   "outputs": [],
   "source": [
    "image = \"\"\n",
    "ps, classes = predict(image, model)\n",
    "ps = ps.detach().numpy().tolist()[0]\n",
    "\n",
    "print(ps)\n",
    "print(classes)\n",
    "\n",
    "plot_solution(image, ps, classes)\n"
   ]
  },
  {
   "cell_type": "code",
   "execution_count": null,
   "id": "f4f3f9f2",
   "metadata": {},
   "outputs": [],
   "source": [
    "image = \"\"\n",
    "ps, classes = predict(image, model)\n",
    "ps = ps.detach().numpy().tolist()[0]\n",
    "\n",
    "print(ps)\n",
    "print(classes)\n",
    "\n",
    "plot_solution(image, ps, classes)\n"
   ]
  }
 ],
 "metadata": {
  "interpreter": {
   "hash": "983a0918417c57fb24a0ef4da64bfa0af9197eebebc9df36ea061540d32c237d"
  },
  "kernelspec": {
   "display_name": "Python 3.8.12 64-bit ('DataB': conda)",
   "name": "python3"
  },
  "language_info": {
   "codemirror_mode": {
    "name": "ipython",
    "version": 3
   },
   "file_extension": ".py",
   "mimetype": "text/x-python",
   "name": "python",
   "nbconvert_exporter": "python",
   "pygments_lexer": "ipython3",
   "version": "3.8.12"
  }
 },
 "nbformat": 4,
 "nbformat_minor": 5
}
